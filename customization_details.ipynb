{
 "cells": [
  {
   "cell_type": "markdown",
   "metadata": {},
   "source": [
    "# The confusion Matrix Function\n",
    "The function is inspired by [MLNINJA's](https://stackoverflow.com/questions/41617463/tensorflow-confusion-matrix-in-tensorboard#answer-48030258) answer on stackoverflow.\n",
    "The function below takes as arguments the following :\n",
    "* Array of Ground truth labels\n",
    "* Array of Predicted Labels\n",
    "* The name of labels to be displayed along rows and columns\n",
    "* A tensorflow session\n",
    "* Title of Graph\n",
    "\n",
    "and returns a tensorflow summary of the confusion matrix image\n",
    "\n",
    "# How is this function used ?\n",
    "In the __main__ function, first a summary writer _conf__writer_ at line 1227 for the confusion matrix is created. Then the function is called with in the _if_(line 1261) clause that is invoked(at line 1287) for every evaluation step and finally the summary is written into the summary directory at line 1288 "
   ]
  },
  {
   "cell_type": "code",
   "execution_count": null,
   "metadata": {},
   "outputs": [],
   "source": [
    "from textwrap import wrap\n",
    "import itertools\n",
    "import matplotlib\n",
    "import tfplot\n",
    "import os\n",
    "import re"
   ]
  },
  {
   "cell_type": "code",
   "execution_count": null,
   "metadata": {},
   "outputs": [],
   "source": [
    "def plot_confusion_matrix(correct_labels, predict_labels,labels,session, title='Confusion matrix', tensor_name = 'MyFigure/image', normalize=False):\n",
    "  ''' \n",
    "  Parameters:\n",
    "    correct_labels                  : These are your true classification categories.\n",
    "    predict_labels                  : These are you predicted classification categories\n",
    "    labels                          : This is a lit of labels which will be used to display the axix labels\n",
    "    title='Confusion matrix'        : Title for your matrix\n",
    "    tensor_name = 'MyFigure/image'  : Name for the output summay tensor\n",
    "  Returns:\n",
    "    summary: TensorFlow summary \n",
    "  Other itema to note:\n",
    "    - Depending on the number of category and the data , you may have to modify the figzie, font sizes etc. \n",
    "    - Currently, some of the ticks dont line up due to rotations.\n",
    "  '''\n",
    "  \n",
    "  #global GR\n",
    "  conf = tf.contrib.metrics.confusion_matrix(correct_labels, predict_labels)\n",
    "  #print('corrected labels shape ::{}'.format(correct_labels))\n",
    "  #print('predicted labels shape ::{}'.format(predict_labels))\n",
    "  #cm = tf.confusion_matrix(correct_labels, predict_labels)\n",
    "  #print(cm)\n",
    "  #with tf.Session(graph=GR) as sess:\n",
    "  cm=session.run(conf)\n",
    "\n",
    "  if normalize:\n",
    "    cm = cm.astype('float')*10 / cm.sum(axis=1)[:, np.newaxis]\n",
    "    cm = np.nan_to_num(cm, copy=True)\n",
    "    cm = cm.astype('int')\n",
    "\n",
    "  np.set_printoptions(precision=2)\n",
    "  ###fig, ax = matplotlib.figure.Figure()\n",
    "\n",
    "  fig = matplotlib.figure.Figure(figsize=(7, 7), dpi=320, facecolor='w', edgecolor='k')\n",
    "  ax = fig.add_subplot(1, 1, 1)\n",
    "  im = ax.imshow(cm, cmap='Oranges')\n",
    "  #im = ax.imshow(cm.reshape(cm.shape[0], cm.shape[1]), cmap='Oranges')\n",
    "\n",
    "  classes = [re.sub(r'([a-z](?=[A-Z])|[A-Z](?=[A-Z][a-z]))', r'\\1 ', x) for x in labels]\n",
    "  classes = ['\\n'.join(wrap(l, 40)) for l in classes]\n",
    "  #print classes\n",
    "\n",
    "  tick_marks = np.arange(len(classes))\n",
    "  #print tick_marks\n",
    "\n",
    "  ax.set_xlabel('Predicted', fontsize=7)\n",
    "  ax.set_xticks(tick_marks)\n",
    "  c = ax.set_xticklabels(classes, fontsize=10, rotation=-90,  ha='center')\n",
    "  ax.xaxis.set_label_position('bottom')\n",
    "  ax.xaxis.tick_bottom()\n",
    "\n",
    "  ax.set_ylabel('True Label', fontsize=7)\n",
    "  ax.set_yticks(tick_marks)\n",
    "  ax.set_yticklabels(classes, fontsize=10, va ='center')\n",
    "  ax.yaxis.set_label_position('left')\n",
    "  ax.yaxis.tick_left()\n",
    "\n",
    "  for i, j in itertools.product(range(cm.shape[0]), range(cm.shape[1])):\n",
    "    ax.text(j, i, format(cm[i, j], 'd') if cm[i,j]!=0 else '.', horizontalalignment=\"center\", fontsize=6, verticalalignment='center', color= \"black\")\n",
    "\n",
    "  fig.set_tight_layout(True)\n",
    "  summary = tfplot.figure.to_summary(fig, tag=tensor_name)\n",
    "  return summary\n"
   ]
  },
  {
   "cell_type": "markdown",
   "metadata": {},
   "source": [
    "# Adding dense Layers, dropout, Batch normalization and Gradient-Descent with Momentum\n",
    "The new layers above the previously trained network are defined at the function **add_final_training_ops** where \n",
    "* _lines 844 to 904_ define the 2 densely connected layers( of 1024 neurons at each layer).\n",
    "* Dropouts are introduced at _lines 873 and 903_,\n",
    "* Batch normalizations are introduced at *lines 860 and 891*,\n",
    "* cross entropy is substituted for *hinge_loss* at *line 931* and \n",
    "* Simple Gradient is substituted for *Gradient descent with Momentum* at *line_942*"
   ]
  },
  {
   "cell_type": "code",
   "execution_count": null,
   "metadata": {},
   "outputs": [],
   "source": []
  }
 ],
 "metadata": {
  "kernelspec": {
   "display_name": "Python 3",
   "language": "python",
   "name": "python3"
  },
  "language_info": {
   "codemirror_mode": {
    "name": "ipython",
    "version": 3
   },
   "file_extension": ".py",
   "mimetype": "text/x-python",
   "name": "python",
   "nbconvert_exporter": "python",
   "pygments_lexer": "ipython3",
   "version": "3.5.2"
  }
 },
 "nbformat": 4,
 "nbformat_minor": 2
}
